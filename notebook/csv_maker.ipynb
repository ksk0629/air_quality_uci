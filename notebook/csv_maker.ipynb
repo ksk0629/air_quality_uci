{
 "cells": [
  {
   "cell_type": "markdown",
   "id": "4547d735",
   "metadata": {},
   "source": [
    "# Csv maker"
   ]
  },
  {
   "cell_type": "code",
   "execution_count": null,
   "id": "771f5305",
   "metadata": {},
   "outputs": [],
   "source": [
    "import pandas as pd"
   ]
  },
  {
   "cell_type": "code",
   "execution_count": null,
   "id": "cdba42b0",
   "metadata": {},
   "outputs": [],
   "source": [
    "# The original data path\n",
    "path = \"./../AirQualityUCI.xlsx\""
   ]
  },
  {
   "cell_type": "code",
   "execution_count": null,
   "id": "7e248ca5",
   "metadata": {
    "scrolled": true
   },
   "outputs": [],
   "source": [
    "# Read the original data\n",
    "df = pd.read_excel(path, engine=\"openpyxl\")\n",
    "df"
   ]
  },
  {
   "cell_type": "code",
   "execution_count": null,
   "id": "c9a7b04a",
   "metadata": {
    "scrolled": true
   },
   "outputs": [],
   "source": [
    "# Show the information\n",
    "df.info()"
   ]
  },
  {
   "cell_type": "code",
   "execution_count": null,
   "id": "0a6ab597",
   "metadata": {
    "scrolled": true
   },
   "outputs": [],
   "source": [
    "# Drop NaN data in the original data\n",
    "df_dropped = df.dropna(how='all')\n",
    "df_dropped = df_dropped.dropna(axis=1, how='all')\n",
    "\n",
    "df_dropped"
   ]
  },
  {
   "cell_type": "code",
   "execution_count": null,
   "id": "71458249",
   "metadata": {
    "scrolled": true
   },
   "outputs": [],
   "source": [
    "# Show the modified data\n",
    "df_dropped.info()"
   ]
  },
  {
   "cell_type": "code",
   "execution_count": null,
   "id": "e527469b",
   "metadata": {},
   "outputs": [],
   "source": [
    "# Define the function to get the difference of two data\n",
    "def get_diff_tuple(tuple1, tuple2):\n",
    "    d11, d12 = tuple1\n",
    "    d21, d22 = tuple2\n",
    "    diff1 = d21 - d11\n",
    "    diff2 = d22.hour - d12.hour\n",
    "    return (diff1, diff2)"
   ]
  },
  {
   "cell_type": "code",
   "execution_count": null,
   "id": "6f4c6b56",
   "metadata": {},
   "outputs": [],
   "source": [
    "# Check the interval\n",
    "date = df_dropped[\"Date\"].values.tolist()\n",
    "time = df_dropped[\"Time\"].values.tolist()\n",
    "d_t_values = [(d, t) for d, t in zip(date, time)]\n",
    "\n",
    "for index in range(len(date) - 1):\n",
    "    next_index = index + 1\n",
    "    (date_diff, time_diff) = get_diff_tuple(d_t_values[index], d_t_values[next_index])\n",
    "    \n",
    "    if time_diff == 1 and date_diff == 0:\n",
    "        continue\n",
    "    elif time_diff == -23 and date_diff == 86400000000000:\n",
    "        continue\n",
    "    else:\n",
    "        print(f\"index is {index} and next index is {next_index}\")\n",
    "        print(d_t_values[index])\n",
    "        print(d_t_values[index-1])\n",
    "        raise ValueError(\"There is data whose the interval is not 1 hour.\")"
   ]
  },
  {
   "cell_type": "code",
   "execution_count": null,
   "id": "4e0fb61f",
   "metadata": {},
   "outputs": [],
   "source": [
    "# Save the modified data\n",
    "output_path = \"./../AirQualityUCI.csv\"\n",
    "df_dropped.to_csv(output_path, index=False)"
   ]
  },
  {
   "cell_type": "code",
   "execution_count": null,
   "id": "1fffc97d",
   "metadata": {
    "scrolled": true
   },
   "outputs": [],
   "source": [
    "# Read the modified data\n",
    "saved_df = pd.read_csv(output_path)\n",
    "saved_df"
   ]
  }
 ],
 "metadata": {
  "kernelspec": {
   "display_name": "Python 3 (ipykernel)",
   "language": "python",
   "name": "python3"
  },
  "language_info": {
   "codemirror_mode": {
    "name": "ipython",
    "version": 3
   },
   "file_extension": ".py",
   "mimetype": "text/x-python",
   "name": "python",
   "nbconvert_exporter": "python",
   "pygments_lexer": "ipython3",
   "version": "3.7.12"
  }
 },
 "nbformat": 4,
 "nbformat_minor": 5
}
